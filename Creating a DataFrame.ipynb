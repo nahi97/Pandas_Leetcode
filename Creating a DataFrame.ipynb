{
 "cells": [
  {
   "cell_type": "code",
   "execution_count": 8,
   "id": "c0cc5cf9",
   "metadata": {},
   "outputs": [],
   "source": [
    "student_data =[ [1, 15],[2, 11],[3, 11],[4, 20]]\n",
    "import pandas as pd\n",
    "from typing import List\n",
    "\n",
    "def createDataframe(student_data: List[List[int]]) -> pd.DataFrame:\n",
    "    return pd.DataFrame(student_data, columns = ['student_id', 'age'])"
   ]
  },
  {
   "cell_type": "code",
   "execution_count": null,
   "id": "c741ae6a",
   "metadata": {},
   "outputs": [],
   "source": []
  }
 ],
 "metadata": {
  "kernelspec": {
   "display_name": "Python 3 (ipykernel)",
   "language": "python",
   "name": "python3"
  },
  "language_info": {
   "codemirror_mode": {
    "name": "ipython",
    "version": 3
   },
   "file_extension": ".py",
   "mimetype": "text/x-python",
   "name": "python",
   "nbconvert_exporter": "python",
   "pygments_lexer": "ipython3",
   "version": "3.11.5"
  }
 },
 "nbformat": 4,
 "nbformat_minor": 5
}
